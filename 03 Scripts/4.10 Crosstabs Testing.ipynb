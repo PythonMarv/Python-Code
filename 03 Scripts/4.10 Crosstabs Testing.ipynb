{
 "cells": [
  {
   "cell_type": "markdown",
   "id": "65e091b1-722d-444a-8329-7b8eb17886d9",
   "metadata": {},
   "source": [
    "# 4.10 Crosstabs Testing"
   ]
  },
  {
   "cell_type": "markdown",
   "id": "567eac30-b7ea-45dd-954d-ac65527a1d96",
   "metadata": {},
   "source": [
    "## This Script contains the following\n",
    "\n",
    "### 1. Creating a Crosstab\n",
    "### 2. Using Excel to Edit Python Text"
   ]
  },
  {
   "cell_type": "code",
   "execution_count": 2,
   "id": "02fc8c9b-8f5c-418a-9c5a-bb18f9aaa97d",
   "metadata": {},
   "outputs": [],
   "source": [
    "# Import Libraries\n",
    "\n",
    "import os\n",
    "import pandas as pd\n",
    "import numpy as np\n",
    "import matplotlib.pyplot as plt\n",
    "import seaborn as sns\n",
    "import scipy"
   ]
  },
  {
   "cell_type": "code",
   "execution_count": 3,
   "id": "4eea6c30-a84d-4b16-9215-101fcac2d861",
   "metadata": {},
   "outputs": [],
   "source": [
    "# Set Path\n",
    "\n",
    "path = r'C:\\Users\\Marvin\\Instacart Basket Analysis'"
   ]
  },
  {
   "cell_type": "code",
   "execution_count": 4,
   "id": "770ea484-4260-4851-9be5-77ff188f215b",
   "metadata": {},
   "outputs": [],
   "source": [
    "# Import Data\n",
    "\n",
    "insta_merge = pd.read_pickle(os.path.join(path, '02 Data', 'Prepared Data', 'ords_prods_merged_2.pkl'))"
   ]
  },
  {
   "cell_type": "code",
   "execution_count": 5,
   "id": "d23d9be8-c1b4-47a8-9740-ee115519bd70",
   "metadata": {},
   "outputs": [
    {
     "data": {
      "text/html": [
       "<div>\n",
       "<style scoped>\n",
       "    .dataframe tbody tr th:only-of-type {\n",
       "        vertical-align: middle;\n",
       "    }\n",
       "\n",
       "    .dataframe tbody tr th {\n",
       "        vertical-align: top;\n",
       "    }\n",
       "\n",
       "    .dataframe thead th {\n",
       "        text-align: right;\n",
       "    }\n",
       "</style>\n",
       "<table border=\"1\" class=\"dataframe\">\n",
       "  <thead>\n",
       "    <tr style=\"text-align: right;\">\n",
       "      <th></th>\n",
       "      <th>product_id</th>\n",
       "      <th>product_name</th>\n",
       "      <th>aisle_id</th>\n",
       "      <th>department_id</th>\n",
       "      <th>prices</th>\n",
       "      <th>order_id</th>\n",
       "      <th>user_id</th>\n",
       "      <th>order_number</th>\n",
       "      <th>orders_day_of_week</th>\n",
       "      <th>time_of_day</th>\n",
       "      <th>...</th>\n",
       "      <th>order frequency flag</th>\n",
       "      <th>first_name</th>\n",
       "      <th>surname</th>\n",
       "      <th>Gender</th>\n",
       "      <th>State</th>\n",
       "      <th>Age</th>\n",
       "      <th>date_joined</th>\n",
       "      <th>dependants</th>\n",
       "      <th>family_status</th>\n",
       "      <th>income</th>\n",
       "    </tr>\n",
       "  </thead>\n",
       "  <tbody>\n",
       "    <tr>\n",
       "      <th>0</th>\n",
       "      <td>1</td>\n",
       "      <td>Chocolate Sandwich Cookies</td>\n",
       "      <td>61</td>\n",
       "      <td>19</td>\n",
       "      <td>5.8</td>\n",
       "      <td>3139998</td>\n",
       "      <td>138</td>\n",
       "      <td>28</td>\n",
       "      <td>6</td>\n",
       "      <td>11</td>\n",
       "      <td>...</td>\n",
       "      <td>Frequent customer</td>\n",
       "      <td>Charles</td>\n",
       "      <td>Cox</td>\n",
       "      <td>Male</td>\n",
       "      <td>Minnesota</td>\n",
       "      <td>81</td>\n",
       "      <td>2019-08-01</td>\n",
       "      <td>1</td>\n",
       "      <td>married</td>\n",
       "      <td>49620</td>\n",
       "    </tr>\n",
       "    <tr>\n",
       "      <th>1</th>\n",
       "      <td>1</td>\n",
       "      <td>Chocolate Sandwich Cookies</td>\n",
       "      <td>61</td>\n",
       "      <td>19</td>\n",
       "      <td>5.8</td>\n",
       "      <td>1977647</td>\n",
       "      <td>138</td>\n",
       "      <td>30</td>\n",
       "      <td>6</td>\n",
       "      <td>17</td>\n",
       "      <td>...</td>\n",
       "      <td>Frequent customer</td>\n",
       "      <td>Charles</td>\n",
       "      <td>Cox</td>\n",
       "      <td>Male</td>\n",
       "      <td>Minnesota</td>\n",
       "      <td>81</td>\n",
       "      <td>2019-08-01</td>\n",
       "      <td>1</td>\n",
       "      <td>married</td>\n",
       "      <td>49620</td>\n",
       "    </tr>\n",
       "    <tr>\n",
       "      <th>2</th>\n",
       "      <td>907</td>\n",
       "      <td>Premium Sliced Bacon</td>\n",
       "      <td>106</td>\n",
       "      <td>12</td>\n",
       "      <td>20.0</td>\n",
       "      <td>3160996</td>\n",
       "      <td>138</td>\n",
       "      <td>1</td>\n",
       "      <td>5</td>\n",
       "      <td>13</td>\n",
       "      <td>...</td>\n",
       "      <td>Frequent customer</td>\n",
       "      <td>Charles</td>\n",
       "      <td>Cox</td>\n",
       "      <td>Male</td>\n",
       "      <td>Minnesota</td>\n",
       "      <td>81</td>\n",
       "      <td>2019-08-01</td>\n",
       "      <td>1</td>\n",
       "      <td>married</td>\n",
       "      <td>49620</td>\n",
       "    </tr>\n",
       "    <tr>\n",
       "      <th>3</th>\n",
       "      <td>907</td>\n",
       "      <td>Premium Sliced Bacon</td>\n",
       "      <td>106</td>\n",
       "      <td>12</td>\n",
       "      <td>20.0</td>\n",
       "      <td>2254091</td>\n",
       "      <td>138</td>\n",
       "      <td>10</td>\n",
       "      <td>5</td>\n",
       "      <td>14</td>\n",
       "      <td>...</td>\n",
       "      <td>Frequent customer</td>\n",
       "      <td>Charles</td>\n",
       "      <td>Cox</td>\n",
       "      <td>Male</td>\n",
       "      <td>Minnesota</td>\n",
       "      <td>81</td>\n",
       "      <td>2019-08-01</td>\n",
       "      <td>1</td>\n",
       "      <td>married</td>\n",
       "      <td>49620</td>\n",
       "    </tr>\n",
       "    <tr>\n",
       "      <th>4</th>\n",
       "      <td>1000</td>\n",
       "      <td>Apricots</td>\n",
       "      <td>18</td>\n",
       "      <td>10</td>\n",
       "      <td>12.9</td>\n",
       "      <td>505689</td>\n",
       "      <td>138</td>\n",
       "      <td>9</td>\n",
       "      <td>6</td>\n",
       "      <td>12</td>\n",
       "      <td>...</td>\n",
       "      <td>Frequent customer</td>\n",
       "      <td>Charles</td>\n",
       "      <td>Cox</td>\n",
       "      <td>Male</td>\n",
       "      <td>Minnesota</td>\n",
       "      <td>81</td>\n",
       "      <td>2019-08-01</td>\n",
       "      <td>1</td>\n",
       "      <td>married</td>\n",
       "      <td>49620</td>\n",
       "    </tr>\n",
       "  </tbody>\n",
       "</table>\n",
       "<p>5 rows × 33 columns</p>\n",
       "</div>"
      ],
      "text/plain": [
       "   product_id                product_name  aisle_id  department_id  prices  \\\n",
       "0           1  Chocolate Sandwich Cookies        61             19     5.8   \n",
       "1           1  Chocolate Sandwich Cookies        61             19     5.8   \n",
       "2         907        Premium Sliced Bacon       106             12    20.0   \n",
       "3         907        Premium Sliced Bacon       106             12    20.0   \n",
       "4        1000                    Apricots        18             10    12.9   \n",
       "\n",
       "   order_id  user_id  order_number  orders_day_of_week  time_of_day  ...  \\\n",
       "0   3139998      138            28                   6           11  ...   \n",
       "1   1977647      138            30                   6           17  ...   \n",
       "2   3160996      138             1                   5           13  ...   \n",
       "3   2254091      138            10                   5           14  ...   \n",
       "4    505689      138             9                   6           12  ...   \n",
       "\n",
       "   order frequency flag  first_name  surname Gender      State Age  \\\n",
       "0     Frequent customer     Charles      Cox   Male  Minnesota  81   \n",
       "1     Frequent customer     Charles      Cox   Male  Minnesota  81   \n",
       "2     Frequent customer     Charles      Cox   Male  Minnesota  81   \n",
       "3     Frequent customer     Charles      Cox   Male  Minnesota  81   \n",
       "4     Frequent customer     Charles      Cox   Male  Minnesota  81   \n",
       "\n",
       "  date_joined dependants  family_status income  \n",
       "0  2019-08-01          1        married  49620  \n",
       "1  2019-08-01          1        married  49620  \n",
       "2  2019-08-01          1        married  49620  \n",
       "3  2019-08-01          1        married  49620  \n",
       "4  2019-08-01          1        married  49620  \n",
       "\n",
       "[5 rows x 33 columns]"
      ]
     },
     "execution_count": 5,
     "metadata": {},
     "output_type": "execute_result"
    }
   ],
   "source": [
    "# Check output\n",
    "\n",
    "insta_merge.head()"
   ]
  },
  {
   "cell_type": "markdown",
   "id": "8d379026-651d-41c6-b468-ebb1abf261eb",
   "metadata": {},
   "source": [
    "### 1. Creating a Crosstab"
   ]
  },
  {
   "cell_type": "code",
   "execution_count": 6,
   "id": "9bda3876-ae68-4458-9914-69da94d503d7",
   "metadata": {},
   "outputs": [],
   "source": [
    "# Change Days Since Prior Order column datatype to Int16Dtype to ensure its compatible with crosstab function\n",
    "\n",
    "insta_merge['days_since_prior_order'] = insta_merge['days_since_prior_order'].astype(pd.Int16Dtype())"
   ]
  },
  {
   "cell_type": "code",
   "execution_count": 7,
   "id": "25510ec7-24ab-4c3d-8200-cc400cff8af4",
   "metadata": {},
   "outputs": [
    {
     "name": "stdout",
     "output_type": "stream",
     "text": [
      "RangeIndex(start=0, stop=32404859, step=1)\n"
     ]
    }
   ],
   "source": [
    "print(insta_merge.index)"
   ]
  },
  {
   "cell_type": "code",
   "execution_count": 8,
   "id": "41920455-7e16-4dd8-b520-d398aa7012f9",
   "metadata": {},
   "outputs": [],
   "source": [
    "insta_merge.reset_index(inplace=True)"
   ]
  },
  {
   "cell_type": "code",
   "execution_count": 9,
   "id": "2bf36484-0b0d-44b0-ab92-cdd9183f3ee4",
   "metadata": {},
   "outputs": [],
   "source": [
    "# Create a Crosstab to Inspect Days since prior order and Order number - this will let us see whether or not all order numbers are 1 for NaN values in days since prior order\n",
    "\n",
    "crosstab = pd.crosstab(insta_merge['days_since_prior_order'], insta_merge['order_number'], dropna = False)"
   ]
  },
  {
   "cell_type": "code",
   "execution_count": 10,
   "id": "39cc8325-3921-4ba7-a0d5-951d9db3379b",
   "metadata": {},
   "outputs": [],
   "source": [
    "# Copy crosstab to clipboard for pasting into excel\n",
    "\n",
    "crosstab.to_clipboard()"
   ]
  },
  {
   "cell_type": "markdown",
   "id": "69a30945-9c1a-41c1-b456-5645445cd878",
   "metadata": {},
   "source": [
    "### 2. Using Excel to Edit Python Text"
   ]
  },
  {
   "cell_type": "code",
   "execution_count": 11,
   "id": "c4dfd12e-47e2-48fe-9242-c18bf34c4a6a",
   "metadata": {},
   "outputs": [
    {
     "data": {
      "text/plain": [
       "Index(['index', 'product_id', 'product_name', 'aisle_id', 'department_id',\n",
       "       'prices', 'order_id', 'user_id', 'order_number', 'orders_day_of_week',\n",
       "       'time_of_day', 'days_since_prior_order', 'add_to_cart_order',\n",
       "       'reordered', '_merge', 'price_range_loc', 'busiest day', 'busiest_days',\n",
       "       'busiest_period_of_day', 'max_order', 'loyalty_flag', 'average spent',\n",
       "       'spending flag', 'regularity', 'order frequency flag', 'first_name',\n",
       "       'surname', 'Gender', 'State', 'Age', 'date_joined', 'dependants',\n",
       "       'family_status', 'income'],\n",
       "      dtype='object')"
      ]
     },
     "execution_count": 11,
     "metadata": {},
     "output_type": "execute_result"
    }
   ],
   "source": [
    "insta_merge.columns"
   ]
  }
 ],
 "metadata": {
  "kernelspec": {
   "display_name": "Python 3 (ipykernel)",
   "language": "python",
   "name": "python3"
  },
  "language_info": {
   "codemirror_mode": {
    "name": "ipython",
    "version": 3
   },
   "file_extension": ".py",
   "mimetype": "text/x-python",
   "name": "python",
   "nbconvert_exporter": "python",
   "pygments_lexer": "ipython3",
   "version": "3.11.5"
  }
 },
 "nbformat": 4,
 "nbformat_minor": 5
}
