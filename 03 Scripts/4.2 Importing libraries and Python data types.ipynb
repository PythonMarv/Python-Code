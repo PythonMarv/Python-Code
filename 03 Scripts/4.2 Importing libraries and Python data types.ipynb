{
 "cells": [
  {
   "cell_type": "markdown",
   "id": "c016bd14",
   "metadata": {},
   "source": [
    "# 01. Importing libraries"
   ]
  },
  {
   "cell_type": "code",
   "execution_count": 2,
   "id": "4cfff6dd",
   "metadata": {},
   "outputs": [],
   "source": [
    "# to import pandas, numpy and os libraries\n",
    "import pandas as pd\n",
    "import numpy as np\n",
    "import os"
   ]
  },
  {
   "cell_type": "markdown",
   "id": "b4ed3f07",
   "metadata": {},
   "source": [
    "## Working with Python data types"
   ]
  },
  {
   "cell_type": "markdown",
   "id": "17f9f516",
   "metadata": {},
   "source": [
    "### Exercise 7"
   ]
  },
  {
   "cell_type": "code",
   "execution_count": 7,
   "id": "1413339a",
   "metadata": {},
   "outputs": [],
   "source": [
    "x = 50"
   ]
  },
  {
   "cell_type": "code",
   "execution_count": 8,
   "id": "e50bb1a1",
   "metadata": {},
   "outputs": [
    {
     "data": {
      "text/plain": [
       "100"
      ]
     },
     "execution_count": 8,
     "metadata": {},
     "output_type": "execute_result"
    }
   ],
   "source": [
    "x+x"
   ]
  },
  {
   "cell_type": "code",
   "execution_count": 9,
   "id": "6fc27836",
   "metadata": {},
   "outputs": [],
   "source": [
    "y=1000"
   ]
  },
  {
   "cell_type": "code",
   "execution_count": 14,
   "id": "02ee195d",
   "metadata": {},
   "outputs": [
    {
     "data": {
      "text/plain": [
       "100"
      ]
     },
     "execution_count": 14,
     "metadata": {},
     "output_type": "execute_result"
    }
   ],
   "source": [
    "y-x*18"
   ]
  },
  {
   "cell_type": "code",
   "execution_count": 15,
   "id": "e17cc5ad",
   "metadata": {},
   "outputs": [],
   "source": [
    "z=10"
   ]
  },
  {
   "cell_type": "code",
   "execution_count": 16,
   "id": "52be1acf",
   "metadata": {},
   "outputs": [
    {
     "data": {
      "text/plain": [
       "100.0"
      ]
     },
     "execution_count": 16,
     "metadata": {},
     "output_type": "execute_result"
    }
   ],
   "source": [
    "y/z"
   ]
  },
  {
   "cell_type": "markdown",
   "id": "aed59507",
   "metadata": {},
   "source": [
    "### Exercise 8"
   ]
  },
  {
   "cell_type": "code",
   "execution_count": 17,
   "id": "c163d477",
   "metadata": {},
   "outputs": [],
   "source": [
    "a = 5.789"
   ]
  },
  {
   "cell_type": "code",
   "execution_count": 18,
   "id": "c5689e51",
   "metadata": {},
   "outputs": [],
   "source": [
    "b = 7.212"
   ]
  },
  {
   "cell_type": "code",
   "execution_count": 19,
   "id": "224ceb09",
   "metadata": {},
   "outputs": [
    {
     "data": {
      "text/plain": [
       "0.802689961175818"
      ]
     },
     "execution_count": 19,
     "metadata": {},
     "output_type": "execute_result"
    }
   ],
   "source": [
    "a/b"
   ]
  },
  {
   "cell_type": "markdown",
   "id": "a1f244cc",
   "metadata": {},
   "source": [
    "### Exercise 9"
   ]
  },
  {
   "cell_type": "code",
   "execution_count": 22,
   "id": "d4321072",
   "metadata": {},
   "outputs": [],
   "source": [
    "h = 'Hello '"
   ]
  },
  {
   "cell_type": "code",
   "execution_count": 28,
   "id": "c89de36c",
   "metadata": {},
   "outputs": [],
   "source": [
    "w = 'World'"
   ]
  },
  {
   "cell_type": "code",
   "execution_count": 23,
   "id": "c20aef75",
   "metadata": {},
   "outputs": [
    {
     "data": {
      "text/plain": [
       "'Hello World!'"
      ]
     },
     "execution_count": 23,
     "metadata": {},
     "output_type": "execute_result"
    }
   ],
   "source": [
    "h+w"
   ]
  },
  {
   "cell_type": "markdown",
   "id": "12af3a9a",
   "metadata": {},
   "source": [
    "### Exercise 10"
   ]
  },
  {
   "cell_type": "code",
   "execution_count": 30,
   "id": "18747bfd",
   "metadata": {},
   "outputs": [],
   "source": [
    "m = ', my '"
   ]
  },
  {
   "cell_type": "code",
   "execution_count": 25,
   "id": "b5bec649",
   "metadata": {},
   "outputs": [],
   "source": [
    "n = 'name '"
   ]
  },
  {
   "cell_type": "code",
   "execution_count": 26,
   "id": "b0333002",
   "metadata": {},
   "outputs": [],
   "source": [
    "i = 'is Marvin.'"
   ]
  },
  {
   "cell_type": "code",
   "execution_count": 31,
   "id": "e93bab01",
   "metadata": {},
   "outputs": [
    {
     "data": {
      "text/plain": [
       "'Hello World, my name is Marvin.'"
      ]
     },
     "execution_count": 31,
     "metadata": {},
     "output_type": "execute_result"
    }
   ],
   "source": [
    "h+w+m+n+i"
   ]
  },
  {
   "cell_type": "code",
   "execution_count": 32,
   "id": "d8b101fe",
   "metadata": {},
   "outputs": [],
   "source": [
    "q = 'How '"
   ]
  },
  {
   "cell_type": "code",
   "execution_count": 33,
   "id": "f41921f1",
   "metadata": {},
   "outputs": [],
   "source": [
    "r = 'are '"
   ]
  },
  {
   "cell_type": "code",
   "execution_count": 35,
   "id": "902cbc48",
   "metadata": {},
   "outputs": [],
   "source": [
    "s = 'you'"
   ]
  },
  {
   "cell_type": "code",
   "execution_count": 36,
   "id": "446d0458",
   "metadata": {},
   "outputs": [],
   "source": [
    "t = '?'"
   ]
  },
  {
   "cell_type": "code",
   "execution_count": 37,
   "id": "802bbb31",
   "metadata": {},
   "outputs": [
    {
     "data": {
      "text/plain": [
       "'How are you?'"
      ]
     },
     "execution_count": 37,
     "metadata": {},
     "output_type": "execute_result"
    }
   ],
   "source": [
    "q+r+s+t"
   ]
  },
  {
   "cell_type": "markdown",
   "id": "4e6fadd0",
   "metadata": {},
   "source": [
    "### Bonus"
   ]
  },
  {
   "cell_type": "code",
   "execution_count": 38,
   "id": "4c7ca235",
   "metadata": {},
   "outputs": [
    {
     "data": {
      "text/plain": [
       "'How are you?How are you?How are you?How are you?How are you?How are you?How are you?How are you?How are you?How are you?How are you?How are you?How are you?How are you?How are you?How are you?How are you?How are you?How are you?How are you?How are you?How are you?How are you?How are you?How are you?How are you?How are you?How are you?How are you?How are you?How are you?How are you?How are you?How are you?How are you?How are you?How are you?How are you?How are you?How are you?How are you?How are you?How are you?How are you?How are you?How are you?How are you?How are you?How are you?How are you?How are you?How are you?How are you?How are you?How are you?How are you?How are you?How are you?How are you?How are you?How are you?How are you?How are you?How are you?How are you?How are you?How are you?How are you?How are you?How are you?How are you?How are you?How are you?How are you?How are you?How are you?How are you?How are you?How are you?How are you?How are you?How are you?How are you?How are you?How are you?How are you?How are you?How are you?How are you?How are you?How are you?How are you?How are you?How are you?How are you?How are you?How are you?How are you?How are you?How are you?'"
      ]
     },
     "execution_count": 38,
     "metadata": {},
     "output_type": "execute_result"
    }
   ],
   "source": [
    "(q+r+s+t)*100"
   ]
  }
 ],
 "metadata": {
  "kernelspec": {
   "display_name": "Python 3 (ipykernel)",
   "language": "python",
   "name": "python3"
  },
  "language_info": {
   "codemirror_mode": {
    "name": "ipython",
    "version": 3
   },
   "file_extension": ".py",
   "mimetype": "text/x-python",
   "name": "python",
   "nbconvert_exporter": "python",
   "pygments_lexer": "ipython3",
   "version": "3.11.5"
  }
 },
 "nbformat": 4,
 "nbformat_minor": 5
}
